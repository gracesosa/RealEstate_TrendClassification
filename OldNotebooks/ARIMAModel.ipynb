{
 "cells": [
  {
   "cell_type": "code",
   "execution_count": null,
   "metadata": {},
   "outputs": [],
   "source": [
    "import numpy as np\n",
    "import pandas as pd\n",
    "import os\n",
    "from hmmlearn.hmm import GaussianHMM\n",
    "import seaborn as sns\n",
    "import matplotlib.pyplot as plt\n",
    "from statsmodels.tsa.arima.model import ARIMA\n",
    "from sklearn.model_selection import train_test_split"
   ]
  },
  {
   "cell_type": "code",
   "execution_count": 3,
   "metadata": {},
   "outputs": [],
   "source": [
    "os.chdir('C:\\\\Users\\\\grace\\\\UNSW\\\\COMP4121\\\\COMP4121_MajorProject\\\\Data')"
   ]
  },
  {
   "cell_type": "code",
   "execution_count": 4,
   "metadata": {},
   "outputs": [],
   "source": [
    "# Load the saved values from the .npz file\n",
    "data = np.load('hmm_data.npz')"
   ]
  },
  {
   "cell_type": "code",
   "execution_count": 5,
   "metadata": {},
   "outputs": [
    {
     "name": "stdout",
     "output_type": "stream",
     "text": [
      "Optimal number of hidden states: 5\n",
      "Features shape: (29414, 3)\n"
     ]
    }
   ],
   "source": [
    "# Retrieve the variables\n",
    "n_states = int(data['n_states'])\n",
    "features = data['X']\n",
    "\n",
    "print(f\"Optimal number of hidden states: {n_states}\")\n",
    "print(f\"Features shape: {features.shape}\")"
   ]
  },
  {
   "cell_type": "code",
   "execution_count": 11,
   "metadata": {},
   "outputs": [
    {
     "name": "stdout",
     "output_type": "stream",
     "text": [
      "    date_sold   price  bedrooms  year_quarter        MA  normalized_price  \\\n",
      "0  2007-02-07  525000         4             0  548969.0              4078   \n",
      "1  2007-02-27  290000         3             0  421291.0               449   \n",
      "2  2007-03-07  328000         3             0  421291.0              1227   \n",
      "3  2007-03-09  380000         4             0  548969.0               441   \n",
      "4  2007-03-21  310000         3             0  421291.0               797   \n",
      "\n",
      "   hidden_state  \n",
      "0             2  \n",
      "1             0  \n",
      "2             0  \n",
      "3             2  \n",
      "4             0  \n"
     ]
    }
   ],
   "source": [
    "merged_df = pd.read_csv('merged_df.csv')\n",
    "print(merged_df.head())"
   ]
  },
  {
   "cell_type": "markdown",
   "metadata": {},
   "source": [
    "Create Separate Dataframes for each Hidden State"
   ]
  },
  {
   "cell_type": "code",
   "execution_count": 13,
   "metadata": {},
   "outputs": [
    {
     "name": "stdout",
     "output_type": "stream",
     "text": [
      "date_sold\n",
      "2007-02-27    290000\n",
      "2007-03-07    328000\n",
      "2007-03-21    310000\n",
      "2007-04-24    399000\n",
      "2007-05-24    359000\n",
      "Name: price, dtype: int64\n"
     ]
    }
   ],
   "source": [
    "# Create separate dataframes for each regime\n",
    "hs_1 = merged_df[merged_df['hidden_state'] == 0]\n",
    "hs_2 = merged_df[merged_df['hidden_state'] == 1]\n",
    "hs_3 = merged_df[merged_df['hidden_state'] == 2]\n",
    "hs_4 = merged_df[merged_df['hidden_state'] == 3]\n",
    "hs_5 = merged_df[merged_df['hidden_state'] == 4]\n",
    "\n",
    "#Prepare Time Series for ARIMA\n",
    "hs_1 = hs_1.set_index('date_sold')['price']  # Set date_sold as the index, 'price' as the variable of interest\n",
    "hs_2 = hs_2.set_index('date_sold')['price']\n",
    "hs_3 = hs_3.set_index('date_sold')['price']\n",
    "hs_4 = hs_4.set_index('date_sold')['price']\n",
    "hs_5 = hs_5.set_index('date_sold')['price']\n",
    "\n",
    "print(hs_1.head(5))"
   ]
  },
  {
   "cell_type": "markdown",
   "metadata": {},
   "source": [
    "ARIMA has three main parameters:\n",
    "\n",
    "p (the number of lag observations included in the model),\n",
    "d (the number of times the series is differenced),\n",
    "q (the size of the moving average window)."
   ]
  },
  {
   "cell_type": "markdown",
   "metadata": {},
   "source": [
    "Split Data into Train and Test Sets"
   ]
  },
  {
   "cell_type": "code",
   "execution_count": null,
   "metadata": {},
   "outputs": [],
   "source": [
    "# Define the features (predictors) and target variable (hidden_state)\n",
    "features = ['MA', 'bedrooms', 'normalized_price']\n",
    "target = 'hidden_state'\n",
    "\n",
    "# Prepare your X (features) and y (target)\n",
    "X = merged_df[features]\n",
    "y = merged_df[target]\n",
    "\n",
    "# Split the data into training and test sets (80% train, 20% test)\n",
    "X_train, X_test, y_train, y_test = train_test_split(X, y, test_size=0.2, random_state=42)\n",
    "\n",
    "# Preview the result\n",
    "print(f\"Training set size: {X_train.shape[0]}\")\n",
    "print(f\"Test set size: {X_test.shape[0]}\")\n"
   ]
  },
  {
   "cell_type": "code",
   "execution_count": 7,
   "metadata": {},
   "outputs": [],
   "source": [
    "# Use the price column for ARIMA\n",
    "train, test = train_test_split(merged_df[['date_sold', 'price']], test_size=0.2, shuffle=False)\n",
    "\n",
    "# Ensure the data is indexed by date for ARIMA\n",
    "train.set_index('date_sold', inplace=True)\n",
    "test.set_index('date_sold', inplace=True)"
   ]
  },
  {
   "cell_type": "code",
   "execution_count": null,
   "metadata": {},
   "outputs": [],
   "source": [
    "# Sort by 'year_quarter' to calculate price change over time\n",
    "merged_df = merged_df.sort_values(by=['year_quarter'])\n",
    "\n",
    "# Calculate price change percentage by quarter\n",
    "merged_df['price_change'] = round(merged_df.groupby('year_quarter')['price'].pct_change() * 100, 2)  # price_change in %\n",
    "\n",
    "# Define thresholds for movement classification (increase, stable, decrease)\n",
    "threshold = 1  # Define a threshold percentage (e.g., 1% increase or decrease)\n",
    "merged_df['price_movement'] = merged_df['price_change'].apply(\n",
    "    lambda x: 0 if x < -threshold else (1 if abs(x) <= threshold else 2)\n",
    ")\n",
    "\n",
    "# Add a column for year for convenience if needed\n",
    "merged_df['year'] = merged_df['date_sold'].dt.year\n",
    "\n",
    "merged_df = merged_df[['MA', 'bedrooms','date_sold', 'price', 'normalized_price', 'property_type', 'year_quarter', 'price_change', 'price_movement']].dropna()"
   ]
  },
  {
   "cell_type": "markdown",
   "metadata": {},
   "source": [
    "Fit ARIMA Model"
   ]
  },
  {
   "cell_type": "markdown",
   "metadata": {},
   "source": [
    "Incorporate Hidden States as Features in ARIMA:\n",
    "\n",
    "Add the hidden states as an exogenous variable to ARIMA. This allows ARIMA to condition forecasts on the regimes identified by the HMM."
   ]
  }
 ],
 "metadata": {
  "kernelspec": {
   "display_name": "Python 3",
   "language": "python",
   "name": "python3"
  },
  "language_info": {
   "codemirror_mode": {
    "name": "ipython",
    "version": 3
   },
   "file_extension": ".py",
   "mimetype": "text/x-python",
   "name": "python",
   "nbconvert_exporter": "python",
   "pygments_lexer": "ipython3",
   "version": "3.11.5"
  }
 },
 "nbformat": 4,
 "nbformat_minor": 2
}
