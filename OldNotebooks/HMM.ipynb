{
 "cells": [
  {
   "cell_type": "code",
   "execution_count": 3,
   "metadata": {},
   "outputs": [],
   "source": [
    "import pandas as pd \n",
    "import numpy as np\n",
    "import os\n",
    "import csv\n",
    "import matplotlib.pyplot as plt\n",
    "from sklearn.model_selection import train_test_split, GridSearchCV\n",
    "from sklearn.cluster import KMeans\n",
    "from sklearn.preprocessing import LabelEncoder, MinMaxScaler\n",
    "from sklearn.metrics import mean_squared_error, r2_score\n",
    "from hmmlearn.hmm import GaussianHMM"
   ]
  },
  {
   "cell_type": "code",
   "execution_count": 13,
   "metadata": {},
   "outputs": [],
   "source": [
    "os.chdir('C:\\\\Users\\\\grace\\\\UNSW\\\\COMP4121\\\\COMP4121_MajorProject\\\\Data')"
   ]
  },
  {
   "cell_type": "code",
   "execution_count": 14,
   "metadata": {},
   "outputs": [
    {
     "name": "stdout",
     "output_type": "stream",
     "text": [
      "Number of states: 3\n",
      "Shape of X: (345, 3)\n"
     ]
    }
   ],
   "source": [
    "# Load n_states and X\n",
    "data = np.load('hmm_data.npz')\n",
    "n_states = data['n_states'].item()  # Convert back to int\n",
    "X = data['X']\n",
    "\n",
    "print(\"Number of states:\", n_states)\n",
    "print(\"Shape of X:\", X.shape)\n"
   ]
  },
  {
   "cell_type": "code",
   "execution_count": null,
   "metadata": {},
   "outputs": [],
   "source": [
    "# Initialize HMM\n",
    "hmm_model = GaussianHMM(n_components=n_states, covariance_type=\"diag\", n_iter=1000, random_state=42)\n",
    "\n",
    "# Fit the model\n",
    "hmm_model.fit(X)\n",
    "\n",
    "# Predict hidden states\n",
    "predicted_states = hmm_model.predict(X)\n"
   ]
  }
 ],
 "metadata": {
  "kernelspec": {
   "display_name": "Python 3",
   "language": "python",
   "name": "python3"
  },
  "language_info": {
   "codemirror_mode": {
    "name": "ipython",
    "version": 3
   },
   "file_extension": ".py",
   "mimetype": "text/x-python",
   "name": "python",
   "nbconvert_exporter": "python",
   "pygments_lexer": "ipython3",
   "version": "3.11.5"
  }
 },
 "nbformat": 4,
 "nbformat_minor": 2
}
