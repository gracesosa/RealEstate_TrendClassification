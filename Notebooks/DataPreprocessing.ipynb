{
 "cells": [
  {
   "cell_type": "code",
   "execution_count": 2,
   "metadata": {},
   "outputs": [],
   "source": [
    "import pandas as pd \n",
    "import numpy as np\n",
    "import os\n",
    "import csv\n",
    "from sklearn.model_selection import train_test_split, GridSearchCV\n",
    "from sklearn.preprocessing import LabelEncoder\n",
    "from sklearn.metrics import mean_squared_error, r2_score\n"
   ]
  },
  {
   "cell_type": "code",
   "execution_count": 3,
   "metadata": {},
   "outputs": [],
   "source": [
    "os.chdir('C:\\\\Users\\\\grace\\\\UNSW\\\\COMP4121\\\\COMP4121_MajorProject\\\\Data')"
   ]
  },
  {
   "cell_type": "code",
   "execution_count": 4,
   "metadata": {},
   "outputs": [
    {
     "name": "stderr",
     "output_type": "stream",
     "text": [
      "C:\\Users\\grace\\AppData\\Local\\Temp\\ipykernel_11700\\3741783504.py:3: UserWarning: Parsing dates in %d/%m/%Y format when dayfirst=False (the default) was specified. Pass `dayfirst=True` or specify a format to silence this warning.\n",
      "  ma_lga_df = pd.read_csv('ma_lga_12345.csv', parse_dates=['saledate'])\n"
     ]
    }
   ],
   "source": [
    "#Load datasets\n",
    "raw_sales_df = pd.read_csv('raw_sales.csv', parse_dates=['datesold'])\n",
    "ma_lga_df = pd.read_csv('ma_lga_12345.csv', parse_dates=['saledate'])"
   ]
  },
  {
   "cell_type": "code",
   "execution_count": 5,
   "metadata": {},
   "outputs": [
    {
     "name": "stdout",
     "output_type": "stream",
     "text": [
      "Raw Sales Data:\n",
      "    datesold  postcode   price propertyType  bedrooms\n",
      "0 2007-02-07      2607  525000        house         4\n",
      "1 2007-02-27      2906  290000        house         3\n",
      "2 2007-03-07      2905  328000        house         3\n",
      "3 2007-03-09      2905  380000        house         4\n",
      "4 2007-03-21      2906  310000        house         3\n",
      "\n",
      "MA LGA Data:\n",
      "    saledate      MA   type  bedrooms\n",
      "0 2007-09-30  441854  house         2\n",
      "1 2007-12-31  441854  house         2\n",
      "2 2008-03-31  441854  house         2\n",
      "3 2008-06-30  441854  house         2\n",
      "4 2008-09-30  451583  house         2\n"
     ]
    }
   ],
   "source": [
    "# Show the first few rows of each dataset to understand their structure\n",
    "print(\"Raw Sales Data:\")\n",
    "print(raw_sales_df.head())\n",
    "print(\"\\nMA LGA Data:\")\n",
    "print(ma_lga_df.head())"
   ]
  },
  {
   "cell_type": "code",
   "execution_count": 6,
   "metadata": {},
   "outputs": [],
   "source": [
    "#Preprocessing 'raw_sales_df'\n",
    "\n",
    "# Convert 'datesold' to datetime and sort by this column\n",
    "raw_sales_df['datesold'] = pd.to_datetime(raw_sales_df['datesold'], errors='coerce')\n",
    "raw_sales_df = raw_sales_df.sort_values('datesold')\n",
    "\n",
    "# Handle missing values (if any)\n",
    "raw_sales_df = raw_sales_df.dropna(subset=['datesold', 'price', 'postcode', 'propertyType', 'bedrooms'])\n",
    "\n",
    "# Encode categorical variables like 'propertyType' (house/unit)\n",
    "label_encoder = LabelEncoder()\n",
    "raw_sales_df['propertyType'] = label_encoder.fit_transform(raw_sales_df['propertyType'])\n",
    "\n",
    "# One-hot encode postcode as a new feature (optional)\n",
    "#raw_sales_df = pd.get_dummies(raw_sales_df, columns=['postcode'], drop_first=True)\n"
   ]
  },
  {
   "cell_type": "code",
   "execution_count": null,
   "metadata": {},
   "outputs": [],
   "source": [
    "#Preprocessing 'ma_lga_df' & cleaning 'ma_lga_12345' DataFrame\n",
    "\n",
    "# Convert 'saledate' to datetime and sort by this column\n",
    "ma_lga_df['saledate'] = pd.to_datetime(ma_lga_df['saledate'], errors='coerce')\n",
    "ma_lga_df = ma_lga_df.sort_values('saledate')\n",
    "\n",
    "# Handle missing values (if any)\n",
    "ma_lga_df = ma_lga_df.dropna(subset=['saledate', 'MA', 'type', 'bedrooms'])\n",
    "\n",
    "# Encode categorical variables like 'type' (house/unit)\n",
    "ma_lga_df['type'] = label_encoder.fit_transform(ma_lga_df['type'])"
   ]
  },
  {
   "cell_type": "code",
   "execution_count": 8,
   "metadata": {},
   "outputs": [
    {
     "name": "stdout",
     "output_type": "stream",
     "text": [
      "\n",
      "Raw Sales Data Info:\n",
      "<class 'pandas.core.frame.DataFrame'>\n",
      "Index: 29580 entries, 0 to 24551\n",
      "Data columns (total 5 columns):\n",
      " #   Column        Non-Null Count  Dtype         \n",
      "---  ------        --------------  -----         \n",
      " 0   datesold      29580 non-null  datetime64[ns]\n",
      " 1   postcode      29580 non-null  int64         \n",
      " 2   price         29580 non-null  int64         \n",
      " 3   propertyType  29580 non-null  int32         \n",
      " 4   bedrooms      29580 non-null  int64         \n",
      "dtypes: datetime64[ns](1), int32(1), int64(3)\n",
      "memory usage: 1.2 MB\n",
      "None\n",
      "\n",
      "MA LGA Data Info:\n",
      "<class 'pandas.core.frame.DataFrame'>\n",
      "Index: 347 entries, 49 to 346\n",
      "Data columns (total 4 columns):\n",
      " #   Column    Non-Null Count  Dtype         \n",
      "---  ------    --------------  -----         \n",
      " 0   saledate  347 non-null    datetime64[ns]\n",
      " 1   MA        347 non-null    int64         \n",
      " 2   type      347 non-null    int32         \n",
      " 3   bedrooms  347 non-null    int64         \n",
      "dtypes: datetime64[ns](1), int32(1), int64(2)\n",
      "memory usage: 12.2 KB\n",
      "None\n",
      "\n",
      "Raw Sales Data Description:\n",
      "                            datesold      postcode         price  \\\n",
      "count                          29580  29580.000000  2.958000e+04   \n",
      "mean   2015-02-21 07:35:42.474645248   2730.249730  6.097363e+05   \n",
      "min              2007-02-07 00:00:00   2600.000000  5.650000e+04   \n",
      "25%              2013-02-05 00:00:00   2607.000000  4.400000e+05   \n",
      "50%              2015-09-30 00:00:00   2615.000000  5.500000e+05   \n",
      "75%              2017-07-26 00:00:00   2905.000000  7.050000e+05   \n",
      "max              2019-07-27 00:00:00   2914.000000  8.000000e+06   \n",
      "std                              NaN    146.717292  2.817079e+05   \n",
      "\n",
      "       propertyType      bedrooms  \n",
      "count  29580.000000  29580.000000  \n",
      "mean       0.169980      3.250169  \n",
      "min        0.000000      0.000000  \n",
      "25%        0.000000      3.000000  \n",
      "50%        0.000000      3.000000  \n",
      "75%        0.000000      4.000000  \n",
      "max        1.000000      5.000000  \n",
      "std        0.375621      0.951275  \n",
      "\n",
      "MA LGA Data Description:\n",
      "                            saledate            MA        type    bedrooms\n",
      "count                            347  3.470000e+02  347.000000  347.000000\n",
      "mean   2013-09-02 15:50:19.020172800  5.481320e+05    0.423631    2.867435\n",
      "min              2007-03-31 00:00:00  3.167510e+05    0.000000    1.000000\n",
      "25%              2010-06-30 00:00:00  4.277395e+05    0.000000    2.000000\n",
      "50%              2013-09-30 00:00:00  5.077440e+05    0.000000    3.000000\n",
      "75%              2016-09-30 00:00:00  6.275155e+05    1.000000    4.000000\n",
      "max              2019-09-30 00:00:00  1.017752e+06    1.000000    5.000000\n",
      "std                              NaN  1.701934e+05    0.494847    1.239875\n"
     ]
    }
   ],
   "source": [
    "#Data Exploration\n",
    "\n",
    "#Print basic info to inspect column types and missing values\n",
    "print(\"\\nRaw Sales Data Info:\")\n",
    "print(raw_sales_df.info())\n",
    "\n",
    "print(\"\\nMA LGA Data Info:\")\n",
    "print(ma_lga_df.info())\n",
    "\n",
    "# Show basic statistics on the numerical columns\n",
    "print(\"\\nRaw Sales Data Description:\")\n",
    "print(raw_sales_df.describe())\n",
    "\n",
    "print(\"\\nMA LGA Data Description:\")\n",
    "print(ma_lga_df.describe())"
   ]
  },
  {
   "cell_type": "code",
   "execution_count": 13,
   "metadata": {},
   "outputs": [
    {
     "name": "stdout",
     "output_type": "stream",
     "text": [
      "postcode        0\n",
      "propertyType    0\n",
      "dtype: int64\n"
     ]
    }
   ],
   "source": [
    "print(raw_sales_df[['postcode', 'propertyType']].isnull().sum())"
   ]
  },
  {
   "cell_type": "code",
   "execution_count": 14,
   "metadata": {},
   "outputs": [
    {
     "name": "stdout",
     "output_type": "stream",
     "text": [
      "    datesold  postcode     price  propertyType  bedrooms\n",
      "0 2007-02-07      2607  525000.0             0         4\n",
      "1 2007-02-27      2906  290000.0             0         3\n",
      "2 2007-03-07      2905  328000.0             0         3\n",
      "3 2007-03-09      2905  380000.0             0         4\n",
      "4 2007-03-21      2906  310000.0             0         3\n",
      "datesold        datetime64[ns]\n",
      "postcode                 int64\n",
      "price                  float64\n",
      "propertyType             int32\n",
      "bedrooms                 int32\n",
      "dtype: object\n"
     ]
    }
   ],
   "source": [
    "print(raw_sales_df.head())\n",
    "print(raw_sales_df.dtypes)\n"
   ]
  },
  {
   "cell_type": "code",
   "execution_count": 9,
   "metadata": {},
   "outputs": [
    {
     "ename": "KeyError",
     "evalue": "'postcode'",
     "output_type": "error",
     "traceback": [
      "\u001b[1;31m---------------------------------------------------------------------------\u001b[0m",
      "\u001b[1;31mKeyError\u001b[0m                                  Traceback (most recent call last)",
      "Cell \u001b[1;32mIn[9], line 11\u001b[0m\n\u001b[0;32m      7\u001b[0m raw_sales_df[\u001b[38;5;124m'\u001b[39m\u001b[38;5;124mbedrooms\u001b[39m\u001b[38;5;124m'\u001b[39m] \u001b[38;5;241m=\u001b[39m raw_sales_df[\u001b[38;5;124m'\u001b[39m\u001b[38;5;124mbedrooms\u001b[39m\u001b[38;5;124m'\u001b[39m]\u001b[38;5;241m.\u001b[39mastype(\u001b[38;5;28mint\u001b[39m)  \u001b[38;5;66;03m# Ensure bedrooms are int\u001b[39;00m\n\u001b[0;32m      9\u001b[0m \u001b[38;5;66;03m# For simplicity, let's create sequences for one postcode and property type (you can generalize this)\u001b[39;00m\n\u001b[0;32m     10\u001b[0m \u001b[38;5;66;03m# Creating sequences for HMM (e.g., price and bedrooms)\u001b[39;00m\n\u001b[1;32m---> 11\u001b[0m sequence_raw_sales \u001b[38;5;241m=\u001b[39m \u001b[43mraw_sales_df\u001b[49m\u001b[43m[\u001b[49m\u001b[43m[\u001b[49m\u001b[38;5;124;43m'\u001b[39;49m\u001b[38;5;124;43mdatesold\u001b[39;49m\u001b[38;5;124;43m'\u001b[39;49m\u001b[43m,\u001b[49m\u001b[43m \u001b[49m\u001b[38;5;124;43m'\u001b[39;49m\u001b[38;5;124;43mprice\u001b[39;49m\u001b[38;5;124;43m'\u001b[39;49m\u001b[43m,\u001b[49m\u001b[43m \u001b[49m\u001b[38;5;124;43m'\u001b[39;49m\u001b[38;5;124;43mbedrooms\u001b[39;49m\u001b[38;5;124;43m'\u001b[39;49m\u001b[43m]\u001b[49m\u001b[43m]\u001b[49m\u001b[38;5;241;43m.\u001b[39;49m\u001b[43mgroupby\u001b[49m\u001b[43m(\u001b[49m\u001b[43m[\u001b[49m\u001b[38;5;124;43m'\u001b[39;49m\u001b[38;5;124;43mpostcode\u001b[39;49m\u001b[38;5;124;43m'\u001b[39;49m\u001b[43m,\u001b[49m\u001b[43m \u001b[49m\u001b[38;5;124;43m'\u001b[39;49m\u001b[38;5;124;43mpropertyType\u001b[39;49m\u001b[38;5;124;43m'\u001b[39;49m\u001b[43m]\u001b[49m\u001b[43m)\u001b[49m\u001b[38;5;241m.\u001b[39mapply(\n\u001b[0;32m     12\u001b[0m     \u001b[38;5;28;01mlambda\u001b[39;00m group: group[[\u001b[38;5;124m'\u001b[39m\u001b[38;5;124mprice\u001b[39m\u001b[38;5;124m'\u001b[39m, \u001b[38;5;124m'\u001b[39m\u001b[38;5;124mbedrooms\u001b[39m\u001b[38;5;124m'\u001b[39m]]\u001b[38;5;241m.\u001b[39mvalues\u001b[38;5;241m.\u001b[39mtolist())\u001b[38;5;241m.\u001b[39mreset_index(name\u001b[38;5;241m=\u001b[39m\u001b[38;5;124m'\u001b[39m\u001b[38;5;124msequence\u001b[39m\u001b[38;5;124m'\u001b[39m)\n\u001b[0;32m     14\u001b[0m \u001b[38;5;28mprint\u001b[39m(\u001b[38;5;124m\"\u001b[39m\u001b[38;5;130;01m\\n\u001b[39;00m\u001b[38;5;124mSequences for Raw Sales (Price and Bedrooms):\u001b[39m\u001b[38;5;124m\"\u001b[39m)\n\u001b[0;32m     15\u001b[0m \u001b[38;5;28mprint\u001b[39m(sequence_raw_sales\u001b[38;5;241m.\u001b[39mhead())\n",
      "File \u001b[1;32mc:\\Users\\grace\\AppData\\Local\\Programs\\Python\\Python311\\Lib\\site-packages\\pandas\\core\\frame.py:9156\u001b[0m, in \u001b[0;36mDataFrame.groupby\u001b[1;34m(self, by, axis, level, as_index, sort, group_keys, observed, dropna)\u001b[0m\n\u001b[0;32m   9153\u001b[0m \u001b[38;5;28;01mif\u001b[39;00m level \u001b[38;5;129;01mis\u001b[39;00m \u001b[38;5;28;01mNone\u001b[39;00m \u001b[38;5;129;01mand\u001b[39;00m by \u001b[38;5;129;01mis\u001b[39;00m \u001b[38;5;28;01mNone\u001b[39;00m:\n\u001b[0;32m   9154\u001b[0m     \u001b[38;5;28;01mraise\u001b[39;00m \u001b[38;5;167;01mTypeError\u001b[39;00m(\u001b[38;5;124m\"\u001b[39m\u001b[38;5;124mYou have to supply one of \u001b[39m\u001b[38;5;124m'\u001b[39m\u001b[38;5;124mby\u001b[39m\u001b[38;5;124m'\u001b[39m\u001b[38;5;124m and \u001b[39m\u001b[38;5;124m'\u001b[39m\u001b[38;5;124mlevel\u001b[39m\u001b[38;5;124m'\u001b[39m\u001b[38;5;124m\"\u001b[39m)\n\u001b[1;32m-> 9156\u001b[0m \u001b[38;5;28;01mreturn\u001b[39;00m \u001b[43mDataFrameGroupBy\u001b[49m\u001b[43m(\u001b[49m\n\u001b[0;32m   9157\u001b[0m \u001b[43m    \u001b[49m\u001b[43mobj\u001b[49m\u001b[38;5;241;43m=\u001b[39;49m\u001b[38;5;28;43mself\u001b[39;49m\u001b[43m,\u001b[49m\n\u001b[0;32m   9158\u001b[0m \u001b[43m    \u001b[49m\u001b[43mkeys\u001b[49m\u001b[38;5;241;43m=\u001b[39;49m\u001b[43mby\u001b[49m\u001b[43m,\u001b[49m\n\u001b[0;32m   9159\u001b[0m \u001b[43m    \u001b[49m\u001b[43maxis\u001b[49m\u001b[38;5;241;43m=\u001b[39;49m\u001b[43maxis\u001b[49m\u001b[43m,\u001b[49m\n\u001b[0;32m   9160\u001b[0m \u001b[43m    \u001b[49m\u001b[43mlevel\u001b[49m\u001b[38;5;241;43m=\u001b[39;49m\u001b[43mlevel\u001b[49m\u001b[43m,\u001b[49m\n\u001b[0;32m   9161\u001b[0m \u001b[43m    \u001b[49m\u001b[43mas_index\u001b[49m\u001b[38;5;241;43m=\u001b[39;49m\u001b[43mas_index\u001b[49m\u001b[43m,\u001b[49m\n\u001b[0;32m   9162\u001b[0m \u001b[43m    \u001b[49m\u001b[43msort\u001b[49m\u001b[38;5;241;43m=\u001b[39;49m\u001b[43msort\u001b[49m\u001b[43m,\u001b[49m\n\u001b[0;32m   9163\u001b[0m \u001b[43m    \u001b[49m\u001b[43mgroup_keys\u001b[49m\u001b[38;5;241;43m=\u001b[39;49m\u001b[43mgroup_keys\u001b[49m\u001b[43m,\u001b[49m\n\u001b[0;32m   9164\u001b[0m \u001b[43m    \u001b[49m\u001b[43mobserved\u001b[49m\u001b[38;5;241;43m=\u001b[39;49m\u001b[43mobserved\u001b[49m\u001b[43m,\u001b[49m\n\u001b[0;32m   9165\u001b[0m \u001b[43m    \u001b[49m\u001b[43mdropna\u001b[49m\u001b[38;5;241;43m=\u001b[39;49m\u001b[43mdropna\u001b[49m\u001b[43m,\u001b[49m\n\u001b[0;32m   9166\u001b[0m \u001b[43m\u001b[49m\u001b[43m)\u001b[49m\n",
      "File \u001b[1;32mc:\\Users\\grace\\AppData\\Local\\Programs\\Python\\Python311\\Lib\\site-packages\\pandas\\core\\groupby\\groupby.py:1329\u001b[0m, in \u001b[0;36mGroupBy.__init__\u001b[1;34m(self, obj, keys, axis, level, grouper, exclusions, selection, as_index, sort, group_keys, observed, dropna)\u001b[0m\n\u001b[0;32m   1326\u001b[0m \u001b[38;5;28mself\u001b[39m\u001b[38;5;241m.\u001b[39mdropna \u001b[38;5;241m=\u001b[39m dropna\n\u001b[0;32m   1328\u001b[0m \u001b[38;5;28;01mif\u001b[39;00m grouper \u001b[38;5;129;01mis\u001b[39;00m \u001b[38;5;28;01mNone\u001b[39;00m:\n\u001b[1;32m-> 1329\u001b[0m     grouper, exclusions, obj \u001b[38;5;241m=\u001b[39m \u001b[43mget_grouper\u001b[49m\u001b[43m(\u001b[49m\n\u001b[0;32m   1330\u001b[0m \u001b[43m        \u001b[49m\u001b[43mobj\u001b[49m\u001b[43m,\u001b[49m\n\u001b[0;32m   1331\u001b[0m \u001b[43m        \u001b[49m\u001b[43mkeys\u001b[49m\u001b[43m,\u001b[49m\n\u001b[0;32m   1332\u001b[0m \u001b[43m        \u001b[49m\u001b[43maxis\u001b[49m\u001b[38;5;241;43m=\u001b[39;49m\u001b[43maxis\u001b[49m\u001b[43m,\u001b[49m\n\u001b[0;32m   1333\u001b[0m \u001b[43m        \u001b[49m\u001b[43mlevel\u001b[49m\u001b[38;5;241;43m=\u001b[39;49m\u001b[43mlevel\u001b[49m\u001b[43m,\u001b[49m\n\u001b[0;32m   1334\u001b[0m \u001b[43m        \u001b[49m\u001b[43msort\u001b[49m\u001b[38;5;241;43m=\u001b[39;49m\u001b[43msort\u001b[49m\u001b[43m,\u001b[49m\n\u001b[0;32m   1335\u001b[0m \u001b[43m        \u001b[49m\u001b[43mobserved\u001b[49m\u001b[38;5;241;43m=\u001b[39;49m\u001b[38;5;28;43;01mFalse\u001b[39;49;00m\u001b[43m \u001b[49m\u001b[38;5;28;43;01mif\u001b[39;49;00m\u001b[43m \u001b[49m\u001b[43mobserved\u001b[49m\u001b[43m \u001b[49m\u001b[38;5;129;43;01mis\u001b[39;49;00m\u001b[43m \u001b[49m\u001b[43mlib\u001b[49m\u001b[38;5;241;43m.\u001b[39;49m\u001b[43mno_default\u001b[49m\u001b[43m \u001b[49m\u001b[38;5;28;43;01melse\u001b[39;49;00m\u001b[43m \u001b[49m\u001b[43mobserved\u001b[49m\u001b[43m,\u001b[49m\n\u001b[0;32m   1336\u001b[0m \u001b[43m        \u001b[49m\u001b[43mdropna\u001b[49m\u001b[38;5;241;43m=\u001b[39;49m\u001b[38;5;28;43mself\u001b[39;49m\u001b[38;5;241;43m.\u001b[39;49m\u001b[43mdropna\u001b[49m\u001b[43m,\u001b[49m\n\u001b[0;32m   1337\u001b[0m \u001b[43m    \u001b[49m\u001b[43m)\u001b[49m\n\u001b[0;32m   1339\u001b[0m \u001b[38;5;28;01mif\u001b[39;00m observed \u001b[38;5;129;01mis\u001b[39;00m lib\u001b[38;5;241m.\u001b[39mno_default:\n\u001b[0;32m   1340\u001b[0m     \u001b[38;5;28;01mif\u001b[39;00m \u001b[38;5;28many\u001b[39m(ping\u001b[38;5;241m.\u001b[39m_passed_categorical \u001b[38;5;28;01mfor\u001b[39;00m ping \u001b[38;5;129;01min\u001b[39;00m grouper\u001b[38;5;241m.\u001b[39mgroupings):\n",
      "File \u001b[1;32mc:\\Users\\grace\\AppData\\Local\\Programs\\Python\\Python311\\Lib\\site-packages\\pandas\\core\\groupby\\grouper.py:1043\u001b[0m, in \u001b[0;36mget_grouper\u001b[1;34m(obj, key, axis, level, sort, observed, validate, dropna)\u001b[0m\n\u001b[0;32m   1041\u001b[0m         in_axis, level, gpr \u001b[38;5;241m=\u001b[39m \u001b[38;5;28;01mFalse\u001b[39;00m, gpr, \u001b[38;5;28;01mNone\u001b[39;00m\n\u001b[0;32m   1042\u001b[0m     \u001b[38;5;28;01melse\u001b[39;00m:\n\u001b[1;32m-> 1043\u001b[0m         \u001b[38;5;28;01mraise\u001b[39;00m \u001b[38;5;167;01mKeyError\u001b[39;00m(gpr)\n\u001b[0;32m   1044\u001b[0m \u001b[38;5;28;01melif\u001b[39;00m \u001b[38;5;28misinstance\u001b[39m(gpr, Grouper) \u001b[38;5;129;01mand\u001b[39;00m gpr\u001b[38;5;241m.\u001b[39mkey \u001b[38;5;129;01mis\u001b[39;00m \u001b[38;5;129;01mnot\u001b[39;00m \u001b[38;5;28;01mNone\u001b[39;00m:\n\u001b[0;32m   1045\u001b[0m     \u001b[38;5;66;03m# Add key to exclusions\u001b[39;00m\n\u001b[0;32m   1046\u001b[0m     exclusions\u001b[38;5;241m.\u001b[39madd(gpr\u001b[38;5;241m.\u001b[39mkey)\n",
      "\u001b[1;31mKeyError\u001b[0m: 'postcode'"
     ]
    }
   ],
   "source": [
    "# ---------------------- Data Transformation for HMM ----------------------\n",
    "# For the HMM, we need to create sequences of data that reflect transitions over time.\n",
    "\n",
    "# Raw Sales: Create sequences based on 'datesold'\n",
    "# Sort by date and group by 'postcode' (or other features)\n",
    "raw_sales_df['price'] = raw_sales_df['price'].astype(float)  # Ensure price is float for HMM\n",
    "raw_sales_df['bedrooms'] = raw_sales_df['bedrooms'].astype(int)  # Ensure bedrooms are int\n",
    "\n",
    "# For simplicity, let's create sequences for one postcode and property type (you can generalize this)\n",
    "# Creating sequences for HMM (e.g., price and bedrooms)\n",
    "sequence_raw_sales = raw_sales_df[['datesold', 'price', 'bedrooms']].groupby(['postcode', 'propertyType']).apply(\n",
    "    lambda group: group[['price', 'bedrooms']].values.tolist()).reset_index(name='sequence')\n",
    "\n",
    "print(\"\\nSequences for Raw Sales (Price and Bedrooms):\")\n",
    "print(sequence_raw_sales.head())\n",
    "\n",
    "# MA LGA: Create sequences based on 'saledate'\n",
    "# Similar process for 'ma_lga_12345.csv'\n",
    "ma_lga_df['MA'] = ma_lga_df['MA'].astype(float)  # Ensure 'MA' is float for HMM\n",
    "ma_lga_df['bedrooms'] = ma_lga_df['bedrooms'].astype(int)  # Ensure bedrooms are int\n",
    "\n",
    "# Create sequences for MA and bedrooms based on saledate\n",
    "sequence_ma_lga = ma_lga_df[['saledate', 'MA', 'bedrooms']].groupby(['type']).apply(\n",
    "    lambda group: group[['MA', 'bedrooms']].values.tolist()).reset_index(name='sequence')\n",
    "\n",
    "print(\"\\nSequences for MA LGA (Moving Average and Bedrooms):\")\n",
    "print(sequence_ma_lga.head())\n",
    "\n",
    "# ---------------------- Saving Preprocessed Data ----------------------\n",
    "# Save processed data to new CSVs for future use\n",
    "raw_sales_df.to_csv('processed_raw_sales.csv', index=False)\n",
    "ma_lga_df.to_csv('processed_ma_lga_12345.csv', index=False)\n",
    "\n",
    "# Save sequences for HMM model\n",
    "sequence_raw_sales.to_csv('sequence_raw_sales.csv', index=False)\n",
    "sequence_ma_lga.to_csv('sequence_ma_lga.csv', index=False)\n",
    "\n",
    "print(\"\\nData Preprocessing Complete!\")"
   ]
  },
  {
   "cell_type": "code",
   "execution_count": null,
   "metadata": {},
   "outputs": [],
   "source": []
  }
 ],
 "metadata": {
  "kernelspec": {
   "display_name": "Python 3",
   "language": "python",
   "name": "python3"
  },
  "language_info": {
   "codemirror_mode": {
    "name": "ipython",
    "version": 3
   },
   "file_extension": ".py",
   "mimetype": "text/x-python",
   "name": "python",
   "nbconvert_exporter": "python",
   "pygments_lexer": "ipython3",
   "version": "3.11.5"
  }
 },
 "nbformat": 4,
 "nbformat_minor": 2
}
