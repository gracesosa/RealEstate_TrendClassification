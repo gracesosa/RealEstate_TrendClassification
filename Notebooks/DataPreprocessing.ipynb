{
 "cells": [
  {
   "cell_type": "code",
   "execution_count": null,
   "metadata": {},
   "outputs": [],
   "source": [
    "import pandas as pd \n",
    "import numpy as np\n",
    "import os\n",
    "import csv\n",
    "import matplotlib.pyplot as plt\n",
    "from sklearn.model_selection import train_test_split, GridSearchCV\n",
    "from sklearn.cluster import KMeans\n",
    "from sklearn.preprocessing import LabelEncoder, MinMaxScaler\n",
    "from sklearn.metrics import mean_squared_error, r2_score\n"
   ]
  },
  {
   "cell_type": "code",
   "execution_count": 2,
   "metadata": {},
   "outputs": [],
   "source": [
    "os.chdir('C:\\\\Users\\\\grace\\\\UNSW\\\\COMP4121\\\\COMP4121_MajorProject\\\\Data')"
   ]
  },
  {
   "cell_type": "code",
   "execution_count": 3,
   "metadata": {},
   "outputs": [
    {
     "name": "stderr",
     "output_type": "stream",
     "text": [
      "C:\\Users\\grace\\AppData\\Local\\Temp\\ipykernel_44276\\3741783504.py:3: UserWarning: Parsing dates in %d/%m/%Y format when dayfirst=False (the default) was specified. Pass `dayfirst=True` or specify a format to silence this warning.\n",
      "  ma_lga_df = pd.read_csv('ma_lga_12345.csv', parse_dates=['saledate'])\n"
     ]
    }
   ],
   "source": [
    "#Load datasets\n",
    "raw_sales_df = pd.read_csv('raw_sales.csv', parse_dates=['datesold'])\n",
    "ma_lga_df = pd.read_csv('ma_lga_12345.csv', parse_dates=['saledate'])"
   ]
  },
  {
   "cell_type": "code",
   "execution_count": 4,
   "metadata": {},
   "outputs": [
    {
     "name": "stdout",
     "output_type": "stream",
     "text": [
      "Raw Sales Data:\n",
      "    datesold  postcode   price propertyType  bedrooms\n",
      "0 2007-02-07      2607  525000        house         4\n",
      "1 2007-02-27      2906  290000        house         3\n",
      "2 2007-03-07      2905  328000        house         3\n",
      "3 2007-03-09      2905  380000        house         4\n",
      "4 2007-03-21      2906  310000        house         3\n",
      "\n",
      "MA LGA Data:\n",
      "    saledate      MA   type  bedrooms\n",
      "0 2007-09-30  441854  house         2\n",
      "1 2007-12-31  441854  house         2\n",
      "2 2008-03-31  441854  house         2\n",
      "3 2008-06-30  441854  house         2\n",
      "4 2008-09-30  451583  house         2\n"
     ]
    }
   ],
   "source": [
    "# Show the first few rows of each dataset to understand their structure\n",
    "print(\"Raw Sales Data:\")\n",
    "print(raw_sales_df.head())\n",
    "print(\"\\nMA LGA Data:\")\n",
    "print(ma_lga_df.head())"
   ]
  },
  {
   "cell_type": "code",
   "execution_count": 5,
   "metadata": {},
   "outputs": [],
   "source": [
    "#Preprocessing 'raw_sales_df'\n",
    "\n",
    "# Convert 'datesold' to datetime and sort by this column\n",
    "raw_sales_df['datesold'] = pd.to_datetime(raw_sales_df['datesold'], errors='coerce')\n",
    "raw_sales_df = raw_sales_df.sort_values('datesold')\n",
    "\n",
    "# Handle missing values (if any)\n",
    "raw_sales_df = raw_sales_df.dropna(subset=['datesold', 'price', 'postcode', 'propertyType', 'bedrooms'])\n",
    "\n",
    "# Encode categorical variables like 'propertyType' (house/unit)\n",
    "label_encoder = LabelEncoder()\n",
    "raw_sales_df['propertyType'] = label_encoder.fit_transform(raw_sales_df['propertyType'])\n",
    "\n",
    "# One-hot encode postcode as a new feature (optional)\n",
    "#raw_sales_df = pd.get_dummies(raw_sales_df, columns=['postcode'], drop_first=True)\n"
   ]
  },
  {
   "cell_type": "code",
   "execution_count": 6,
   "metadata": {},
   "outputs": [],
   "source": [
    "#Preprocessing 'ma_lga_df' & cleaning 'ma_lga_12345' DataFrame\n",
    "\n",
    "# Convert 'saledate' to datetime and sort by this column\n",
    "ma_lga_df['saledate'] = pd.to_datetime(ma_lga_df['saledate'], errors='coerce')\n",
    "ma_lga_df = ma_lga_df.sort_values('saledate')\n",
    "\n",
    "# Handle missing values (if any)\n",
    "ma_lga_df = ma_lga_df.dropna(subset=['saledate', 'MA', 'type', 'bedrooms'])\n",
    "\n",
    "# Encode categorical variables like 'type' (house/unit)\n",
    "ma_lga_df['type'] = label_encoder.fit_transform(ma_lga_df['type'])"
   ]
  },
  {
   "cell_type": "code",
   "execution_count": 7,
   "metadata": {},
   "outputs": [
    {
     "name": "stdout",
     "output_type": "stream",
     "text": [
      "\n",
      "Raw Sales Data Info:\n",
      "<class 'pandas.core.frame.DataFrame'>\n",
      "Index: 29580 entries, 0 to 24551\n",
      "Data columns (total 5 columns):\n",
      " #   Column        Non-Null Count  Dtype         \n",
      "---  ------        --------------  -----         \n",
      " 0   datesold      29580 non-null  datetime64[ns]\n",
      " 1   postcode      29580 non-null  int64         \n",
      " 2   price         29580 non-null  int64         \n",
      " 3   propertyType  29580 non-null  int32         \n",
      " 4   bedrooms      29580 non-null  int64         \n",
      "dtypes: datetime64[ns](1), int32(1), int64(3)\n",
      "memory usage: 1.2 MB\n",
      "None\n",
      "\n",
      "MA LGA Data Info:\n",
      "<class 'pandas.core.frame.DataFrame'>\n",
      "Index: 347 entries, 49 to 346\n",
      "Data columns (total 4 columns):\n",
      " #   Column    Non-Null Count  Dtype         \n",
      "---  ------    --------------  -----         \n",
      " 0   saledate  347 non-null    datetime64[ns]\n",
      " 1   MA        347 non-null    int64         \n",
      " 2   type      347 non-null    int32         \n",
      " 3   bedrooms  347 non-null    int64         \n",
      "dtypes: datetime64[ns](1), int32(1), int64(2)\n",
      "memory usage: 12.2 KB\n",
      "None\n",
      "\n",
      "Raw Sales Data Description:\n",
      "                            datesold      postcode         price  \\\n",
      "count                          29580  29580.000000  2.958000e+04   \n",
      "mean   2015-02-21 07:35:42.474645248   2730.249730  6.097363e+05   \n",
      "min              2007-02-07 00:00:00   2600.000000  5.650000e+04   \n",
      "25%              2013-02-05 00:00:00   2607.000000  4.400000e+05   \n",
      "50%              2015-09-30 00:00:00   2615.000000  5.500000e+05   \n",
      "75%              2017-07-26 00:00:00   2905.000000  7.050000e+05   \n",
      "max              2019-07-27 00:00:00   2914.000000  8.000000e+06   \n",
      "std                              NaN    146.717292  2.817079e+05   \n",
      "\n",
      "       propertyType      bedrooms  \n",
      "count  29580.000000  29580.000000  \n",
      "mean       0.169980      3.250169  \n",
      "min        0.000000      0.000000  \n",
      "25%        0.000000      3.000000  \n",
      "50%        0.000000      3.000000  \n",
      "75%        0.000000      4.000000  \n",
      "max        1.000000      5.000000  \n",
      "std        0.375621      0.951275  \n",
      "\n",
      "MA LGA Data Description:\n",
      "                            saledate            MA        type    bedrooms\n",
      "count                            347  3.470000e+02  347.000000  347.000000\n",
      "mean   2013-09-02 15:50:19.020172800  5.481320e+05    0.423631    2.867435\n",
      "min              2007-03-31 00:00:00  3.167510e+05    0.000000    1.000000\n",
      "25%              2010-06-30 00:00:00  4.277395e+05    0.000000    2.000000\n",
      "50%              2013-09-30 00:00:00  5.077440e+05    0.000000    3.000000\n",
      "75%              2016-09-30 00:00:00  6.275155e+05    1.000000    4.000000\n",
      "max              2019-09-30 00:00:00  1.017752e+06    1.000000    5.000000\n",
      "std                              NaN  1.701934e+05    0.494847    1.239875\n"
     ]
    }
   ],
   "source": [
    "#Data Exploration\n",
    "\n",
    "#Print basic info to inspect column types and missing values\n",
    "print(\"\\nRaw Sales Data Info:\")\n",
    "print(raw_sales_df.info())\n",
    "\n",
    "print(\"\\nMA LGA Data Info:\")\n",
    "print(ma_lga_df.info())\n",
    "\n",
    "# Show basic statistics on the numerical columns\n",
    "print(\"\\nRaw Sales Data Description:\")\n",
    "print(raw_sales_df.describe())\n",
    "\n",
    "print(\"\\nMA LGA Data Description:\")\n",
    "print(ma_lga_df.describe())"
   ]
  },
  {
   "cell_type": "code",
   "execution_count": 8,
   "metadata": {},
   "outputs": [
    {
     "name": "stdout",
     "output_type": "stream",
     "text": [
      "postcode        0\n",
      "propertyType    0\n",
      "dtype: int64\n"
     ]
    }
   ],
   "source": [
    "print(raw_sales_df[['postcode', 'propertyType']].isnull().sum())"
   ]
  },
  {
   "cell_type": "code",
   "execution_count": 9,
   "metadata": {},
   "outputs": [
    {
     "name": "stdout",
     "output_type": "stream",
     "text": [
      "    datesold  postcode   price  propertyType  bedrooms\n",
      "0 2007-02-07      2607  525000             0         4\n",
      "1 2007-02-27      2906  290000             0         3\n",
      "2 2007-03-07      2905  328000             0         3\n",
      "3 2007-03-09      2905  380000             0         4\n",
      "4 2007-03-21      2906  310000             0         3\n",
      "datesold        datetime64[ns]\n",
      "postcode                 int64\n",
      "price                    int64\n",
      "propertyType             int32\n",
      "bedrooms                 int64\n",
      "dtype: object\n"
     ]
    }
   ],
   "source": [
    "print(raw_sales_df.head())\n",
    "print(raw_sales_df.dtypes)\n"
   ]
  },
  {
   "cell_type": "code",
   "execution_count": 10,
   "metadata": {},
   "outputs": [
    {
     "name": "stderr",
     "output_type": "stream",
     "text": [
      "C:\\Users\\grace\\AppData\\Local\\Temp\\ipykernel_44276\\4205914423.py:1: DeprecationWarning: DataFrameGroupBy.apply operated on the grouping columns. This behavior is deprecated, and in a future version of pandas the grouping columns will be excluded from the operation. Either pass `include_groups=False` to exclude the groupings or explicitly select the grouping columns after groupby to silence this warning.\n",
      "  sequence_raw_sales_single_group = raw_sales_df.groupby('postcode').apply(\n"
     ]
    },
    {
     "name": "stdout",
     "output_type": "stream",
     "text": [
      "   postcode                                           sequence\n",
      "0      2600  [[327000, 1], [790000, 4], [825000, 3], [31500...\n",
      "1      2601  [[380000, 1], [760000, 3], [595000, 3], [32500...\n",
      "2      2602  [[900000, 4], [427500, 3], [780000, 3], [53000...\n",
      "3      2603  [[1780000, 4], [1460000, 5], [760000, 3], [760...\n",
      "4      2604  [[360000, 2], [479000, 3], [505000, 3], [52250...\n"
     ]
    }
   ],
   "source": [
    "sequence_raw_sales_single_group = raw_sales_df.groupby('postcode').apply(\n",
    "    lambda group: group[['price', 'bedrooms']].values.tolist()).reset_index(name='sequence')\n",
    "print(sequence_raw_sales_single_group.head())"
   ]
  },
  {
   "cell_type": "code",
   "execution_count": 11,
   "metadata": {},
   "outputs": [],
   "source": [
    "label_encoder = LabelEncoder()\n",
    "ma_lga_df['type'] = label_encoder.fit_transform(ma_lga_df['type'])"
   ]
  },
  {
   "cell_type": "code",
   "execution_count": null,
   "metadata": {},
   "outputs": [],
   "source": [
    "scaler = MinMaxScaler()\n",
    "ma_lga_df['MA_scaled'] = scaler.fit_transform(ma_lga_df[['MA']])\n",
    "\n",
    "ma_lga_df['MA_lag1'] = ma_lga_df['MA'].shift(1)\n",
    "ma_lga_df['MA_lag2'] = ma_lga_df['MA'].shift(2)\n",
    "\n",
    "ma_lga_df = ma_lga_df.dropna()\n"
   ]
  },
  {
   "cell_type": "code",
   "execution_count": 16,
   "metadata": {},
   "outputs": [],
   "source": [
    "X = ma_lga_df[['MA_scaled', 'type', 'bedrooms']].values\n",
    "#X = ma_lga_df[['MA_scaled', 'MA_lag1', 'MA_lag2', 'type', 'bedrooms']].values\n"
   ]
  },
  {
   "cell_type": "code",
   "execution_count": null,
   "metadata": {},
   "outputs": [],
   "source": [
    "#Prepare hidden states\n",
    "\n",
    "n_states = 3  # Number of states\n",
    "kmeans = KMeans(n_clusters=n_states, random_state=42)\n",
    "ma_lga_df['state'] = kmeans.fit_predict(ma_lga_df[['MA_scaled']])\n",
    "hidden_states = ma_lga_df['state'].values\n"
   ]
  },
  {
   "cell_type": "markdown",
   "metadata": {},
   "source": [
    "Final Preprocessed Dataset\n",
    "\n",
    "After processing, the dataset should have:\n",
    "\n",
    "Sequential features (X): Prepared for HMMs.\n",
    "Hidden states (hidden_states): Used for training and validation."
   ]
  },
  {
   "cell_type": "code",
   "execution_count": 18,
   "metadata": {},
   "outputs": [
    {
     "name": "stdout",
     "output_type": "stream",
     "text": [
      "Variables saved to hmm_data.npz\n"
     ]
    }
   ],
   "source": [
    "# Save n_states and X\n",
    "np.savez('hmm_data.npz', n_states=n_states, X=X)\n",
    "\n",
    "print(\"Variables saved to hmm_data.npz\")"
   ]
  }
 ],
 "metadata": {
  "kernelspec": {
   "display_name": "Python 3",
   "language": "python",
   "name": "python3"
  },
  "language_info": {
   "codemirror_mode": {
    "name": "ipython",
    "version": 3
   },
   "file_extension": ".py",
   "mimetype": "text/x-python",
   "name": "python",
   "nbconvert_exporter": "python",
   "pygments_lexer": "ipython3",
   "version": "3.11.5"
  }
 },
 "nbformat": 4,
 "nbformat_minor": 2
}
